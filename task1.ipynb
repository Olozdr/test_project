{
 "cells": [
  {
   "cell_type": "code",
   "execution_count": null,
   "id": "3d7d84d0-cc5c-46a1-94fa-f0ed4a963ac6",
   "metadata": {},
   "outputs": [],
   "source": []
  }
 ],
 "metadata": {
  "kernelspec": {
   "display_name": "",
   "name": ""
  },
  "language_info": {
   "name": ""
  }
 },
 "nbformat": 4,
 "nbformat_minor": 5
}
